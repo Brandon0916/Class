{
 "cells": [
  {
   "cell_type": "markdown",
   "metadata": {},
   "source": [
    "# Learning Assignment\n",
    "\n",
    "This is a learning practice for the \"Python Practice of Data Analysis and Mining\" by Junlu Zhang and other 10 authors, ISBN 978-7-111-52123-5\n",
    "\n",
    "The assignment practice are all for the learning, editing by Zimeng Ming, created by 2020-04-06"
   ]
  },
  {
   "cell_type": "markdown",
   "metadata": {},
   "source": [
    "## Part 1 Install and import the modules"
   ]
  },
  {
   "cell_type": "code",
   "execution_count": 3,
   "metadata": {},
   "outputs": [],
   "source": [
    "#import 4 basic tools will used in the assignment\n",
    "import numpy as np\n",
    "import scipy as scipy\n",
    "import matplotlib as plt\n",
    "import pandas as pd\n",
    "\n",
    "#the other learning tools\n",
    "\n",
    "import statsmodels \n",
    "import sklearn\n"
   ]
  },
  {
   "cell_type": "markdown",
   "metadata": {},
   "source": [
    "statsmodelsl are use for the stats modeling, the function are more like R, as for the sklearn are the modules for the machine learning. Also there are keras for the nural network and gensim for the word simulation comparsion etc.. "
   ]
  },
  {
   "cell_type": "markdown",
   "metadata": {},
   "source": [
    "## Part 2 The different tasks and programs. \n",
    "\n",
    "This part will start for the assignment I made and the description for those tasks"
   ]
  },
  {
   "cell_type": "code",
   "execution_count": null,
   "metadata": {},
   "outputs": [],
   "source": []
  }
 ],
 "metadata": {
  "kernelspec": {
   "display_name": "Python 3",
   "language": "python",
   "name": "python3"
  },
  "language_info": {
   "codemirror_mode": {
    "name": "ipython",
    "version": 3
   },
   "file_extension": ".py",
   "mimetype": "text/x-python",
   "name": "python",
   "nbconvert_exporter": "python",
   "pygments_lexer": "ipython3",
   "version": "3.7.1"
  }
 },
 "nbformat": 4,
 "nbformat_minor": 2
}
